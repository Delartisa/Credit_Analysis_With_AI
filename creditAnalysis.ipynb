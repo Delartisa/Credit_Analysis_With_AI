{
 "cells": [
  {
   "cell_type": "code",
   "execution_count": null,
   "metadata": {},
   "outputs": [],
   "source": [
    "# write step by step\n",
    "\n",
    "# 0. Understand the company’s challenge/goal\n",
    "# 1. import database\n",
    "# 2. Prepare the database for AI\n",
    "# 3. CREATE AN AI MODEL -> credit score: bad, average or good\n",
    "# 4. choose the best AI model\n",
    "# 5. Use the model to make predictions\n",
    "\n",
    "# tools used: pandas (database) and scikit-learn (IA)"
   ]
  },
  {
   "cell_type": "code",
   "execution_count": null,
   "metadata": {},
   "outputs": [],
   "source": [
    "# 1. import database\n",
    "import pandas as pd\n",
    "\n",
    "tabela = pd.read_csv(\"clientes.csv\") # insert the table name in parentheses\n",
    "display(tabela) # displays a format table organized in ipynb files\n",
    "\n",
    "# check the database | data processing | ex: display(table.info())"
   ]
  },
  {
   "cell_type": "code",
   "execution_count": null,
   "metadata": {},
   "outputs": [],
   "source": [
    "#2. Prepare the database for AI\n",
    "\n",
    "from sklearn.preprocessing import LabelEncoder as le \n",
    "\n",
    "codificador = le() # specifically import labelEncoder to reduce typing and optimize code\n",
    "\n",
    "# intelligence firstly only works with numbers, that is, object will not be read, for this, we must annotate these columns with object\n",
    "\n",
    "# minus the prediction column (score)\n",
    "\n",
    "# transform strs into numbers\n",
    "\n",
    "# select a [column] in the table | encoder.fit_transform encodes and adds a label to arrays (in this case, our \"objects\" columns will be transformed into an integer)\n",
    "tabela[\"profissao\"] = codificador.fit_transform(tabela[\"profissao\"])\n",
    "\n",
    "# mix_credito\n",
    "tabela[\"mix_credito\"] = codificador.fit_transform(tabela[\"mix_credito\"])\n",
    "\n",
    "# comportamento_pagamento\n",
    "tabela[\"comportamento_pagamento\"] = codificador.fit_transform(tabela[\"comportamento_pagamento\"])\n",
    "\n",
    "\n",
    "display(tabela.info()) # shows the database information on the screen\n"
   ]
  },
  {
   "cell_type": "code",
   "execution_count": 12,
   "metadata": {},
   "outputs": [],
   "source": [
    "# prediction with AI\n",
    "# The AI ​​will use the data in the table to calculate the customer's score, therefore, the score_credito table is what we want to predict, so we will not provide this data to the AI\n",
    "\n",
    "# X is who AI can use to make predictions\n",
    "# Y and who AI has to predict\n",
    "\n",
    "x = tabela.drop(columns=[\"score_credito\", \"id_cliente\"]) # drop to throw away useless columns | as and more than one, it needs to be in an array\n",
    "y = tabela[\"score_credito\"] \n",
    "\n",
    "# train the AI\n",
    "\n",
    "# divide the data table into parts x_training and y_training and x_test and Y_test\n",
    "\n",
    "from sklearn.model_selection import train_test_split # will divide the database into 4 parts\n",
    "\n",
    "x_treino, x_teste, y_treino, y_teste = train_test_split(x, y) # writing order: first x and then y | You can also define the quantity of each thing. ex: train_test_split(x, y, test_size=0.3), but it is important to highlight that what is suggested is to leave more data for x (training)"
   ]
  },
  {
   "cell_type": "code",
   "execution_count": null,
   "metadata": {},
   "outputs": [],
   "source": [
    "# 3. Create an AI\n",
    "\n",
    "# Decision tree -> RandomForest\n",
    "\n",
    "# KNN -> Noirest Neighbors\n",
    "\n",
    "# import AI\n",
    "from sklearn.ensemble import RandomForestClassifier\n",
    "from sklearn.neighbors import KNeighborsClassifier\n",
    "\n",
    "# create IA\n",
    "modelo_arvoredecisao = RandomForestClassifier()\n",
    "modelo_knn = KNeighborsClassifier() \n",
    "\n",
    "# train the AI\n",
    "modelo_arvoredecisao.fit(x_treino, y_treino)\n",
    "modelo_knn.fit(x_treino, y_treino)\n"
   ]
  },
  {
   "cell_type": "code",
   "execution_count": null,
   "metadata": {},
   "outputs": [],
   "source": [
    "# choose better AI\n",
    "previsao_arvoredecisao = modelo_arvoredecisao.predict(x_teste)\n",
    "previsao_knn = modelo_knn.predict(x_teste)\n",
    "\n",
    "from sklearn.metrics import accuracy_score\n",
    "\n",
    "display(accuracy_score(y_teste, previsao_arvoredecisao))\n",
    "display(accuracy_score(y_teste, previsao_knn))\n",
    "\n",
    "# Results\n",
    "\n",
    "#0.82792 tree\n",
    "# 0.746 knn"
   ]
  },
  {
   "cell_type": "code",
   "execution_count": null,
   "metadata": {},
   "outputs": [],
   "source": [
    "#5. Use the best model to make new predictions\n",
    "\n",
    "# import new table\n",
    "tabelanova = pd.read_csv(\"novos_clientes.csv\")\n",
    "\n",
    "# show table data formats\n",
    "display(tabelanova)\n",
    "\n",
    "# transform obj into num\n",
    "\n",
    "# profissao\n",
    "tabelanova[\"profissao\"] = codificador.fit_transform(tabelanova[\"profissao\"])\n",
    "\n",
    "# mix_credito\n",
    "tabelanova[\"mix_credito\"] = codificador.fit_transform(tabelanova[\"mix_credito\"])\n",
    "\n",
    "# comportamento_pagamento \n",
    "tabelanova[\"comportamento_pagamento\"] = codificador.fit_transform(tabelanova[\"comportamento_pagamento\"])\n",
    "\n",
    "# nova previsao\n",
    "previsoes = modelo_arvoredecisao.predict(tabelanova)\n",
    "display(previsoes)\n"
   ]
  }
 ],
 "metadata": {
  "kernelspec": {
   "display_name": "Python 3",
   "language": "python",
   "name": "python3"
  },
  "language_info": {
   "codemirror_mode": {
    "name": "ipython",
    "version": 3
   },
   "file_extension": ".py",
   "mimetype": "text/x-python",
   "name": "python",
   "nbconvert_exporter": "python",
   "pygments_lexer": "ipython3",
   "version": "3.12.4"
  }
 },
 "nbformat": 4,
 "nbformat_minor": 2
}
